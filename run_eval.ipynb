{
 "cells": [
  {
   "cell_type": "markdown",
   "metadata": {},
   "source": [
    "Execute qa_dataset_generation.py from terminal and csv file will be generated in current directory"
   ]
  },
  {
   "cell_type": "code",
   "execution_count": 1,
   "metadata": {},
   "outputs": [],
   "source": [
    "from evaluate_qa_pairs import read_data, create_requests, execute_batch_run, extract_elements"
   ]
  },
  {
   "cell_type": "code",
   "execution_count": 2,
   "metadata": {},
   "outputs": [],
   "source": [
    "df = read_data(\"/Users/netraranga/Desktop/Projects/synthetic_data_generation/output_files/final_test_set.csv\")\n",
    "qa_requests = create_requests(df)\n",
    "batch_output = execute_batch_run(qa_requests)"
   ]
  },
  {
   "cell_type": "markdown",
   "metadata": {},
   "source": [
    "If you try to parse the outputs before processing is complete with the following code\n",
    "```\n",
    "response_vals = extract_elements(batch_output, \"response\")\n",
    "```\n",
    "\n",
    "The following error will return:\n",
    "**AnthropicError: No `results_url` for the given batch; Has it finished processing? in_progress**"
   ]
  },
  {
   "cell_type": "code",
   "execution_count": 5,
   "metadata": {},
   "outputs": [],
   "source": [
    "response_vals = extract_elements(batch_output, \"response\")\n",
    "reasoning_vals = extract_elements(batch_output, \"reasoning\")\n",
    "\n",
    "df[\"response\"] = response_vals\n",
    "df[\"reasoning\"] = reasoning_vals"
   ]
  },
  {
   "cell_type": "code",
   "execution_count": 6,
   "metadata": {},
   "outputs": [
    {
     "data": {
      "text/html": [
       "<div>\n",
       "<style scoped>\n",
       "    .dataframe tbody tr th:only-of-type {\n",
       "        vertical-align: middle;\n",
       "    }\n",
       "\n",
       "    .dataframe tbody tr th {\n",
       "        vertical-align: top;\n",
       "    }\n",
       "\n",
       "    .dataframe thead th {\n",
       "        text-align: right;\n",
       "    }\n",
       "</style>\n",
       "<table border=\"1\" class=\"dataframe\">\n",
       "  <thead>\n",
       "    <tr style=\"text-align: right;\">\n",
       "      <th></th>\n",
       "      <th>Unnamed: 0</th>\n",
       "      <th>page</th>\n",
       "      <th>page_title</th>\n",
       "      <th>question</th>\n",
       "      <th>answer_1</th>\n",
       "      <th>answer_2</th>\n",
       "      <th>file_name</th>\n",
       "      <th>response</th>\n",
       "      <th>reasoning</th>\n",
       "    </tr>\n",
       "  </thead>\n",
       "  <tbody>\n",
       "    <tr>\n",
       "      <th>0</th>\n",
       "      <td>0</td>\n",
       "      <td>17</td>\n",
       "      <td>Report Overview</td>\n",
       "      <td>What are the three components that shape Cerul...</td>\n",
       "      <td>The three components are: Industry understandi...</td>\n",
       "      <td>Cerulli's methodology consists of industry kno...</td>\n",
       "      <td>knowledge_base/cerulli_part1.pdf</td>\n",
       "      <td>Response A</td>\n",
       "      <td>Response A is more specific and clearly outlin...</td>\n",
       "    </tr>\n",
       "    <tr>\n",
       "      <th>1</th>\n",
       "      <td>1</td>\n",
       "      <td>18</td>\n",
       "      <td>Report Overview</td>\n",
       "      <td>How has Cerulli's channel reclassification evo...</td>\n",
       "      <td>The changes include renaming regional B/D to n...</td>\n",
       "      <td>In 2016, Cerulli implemented changes including...</td>\n",
       "      <td>knowledge_base/cerulli_part1.pdf</td>\n",
       "      <td>Response A</td>\n",
       "      <td>Response A provides a clearer and more compreh...</td>\n",
       "    </tr>\n",
       "    <tr>\n",
       "      <th>2</th>\n",
       "      <td>2</td>\n",
       "      <td>19</td>\n",
       "      <td>Executive Summary</td>\n",
       "      <td>According to the chart, what are the key demog...</td>\n",
       "      <td>The data shows Retail bank broker/dealers have...</td>\n",
       "      <td>Only 5% of advisors are Hispanic/Latino, 4.2% ...</td>\n",
       "      <td>knowledge_base/cerulli_part1.pdf</td>\n",
       "      <td>Response A</td>\n",
       "      <td>Response A provides specific demographic stati...</td>\n",
       "    </tr>\n",
       "    <tr>\n",
       "      <th>3</th>\n",
       "      <td>3</td>\n",
       "      <td>20</td>\n",
       "      <td>Executive Summary</td>\n",
       "      <td>What are the key client relationship managemen...</td>\n",
       "      <td>81% of clients report satisfaction with their ...</td>\n",
       "      <td>54% of advisors' clients fall between ages 50-...</td>\n",
       "      <td>knowledge_base/cerulli_part1.pdf</td>\n",
       "      <td>Response A</td>\n",
       "      <td>Response A directly addresses key client relat...</td>\n",
       "    </tr>\n",
       "    <tr>\n",
       "      <th>4</th>\n",
       "      <td>4</td>\n",
       "      <td>21</td>\n",
       "      <td>Executive Summary</td>\n",
       "      <td>What are the key statistics regarding successi...</td>\n",
       "      <td>14% plan for external sale, 26.2% have identif...</td>\n",
       "      <td>55% of practices are open to acquiring other p...</td>\n",
       "      <td>knowledge_base/cerulli_part1.pdf</td>\n",
       "      <td>Response A</td>\n",
       "      <td>Response A provides more comprehensive and dir...</td>\n",
       "    </tr>\n",
       "  </tbody>\n",
       "</table>\n",
       "</div>"
      ],
      "text/plain": [
       "   Unnamed: 0  page         page_title  \\\n",
       "0           0    17    Report Overview   \n",
       "1           1    18    Report Overview   \n",
       "2           2    19  Executive Summary   \n",
       "3           3    20  Executive Summary   \n",
       "4           4    21  Executive Summary   \n",
       "\n",
       "                                            question  \\\n",
       "0  What are the three components that shape Cerul...   \n",
       "1  How has Cerulli's channel reclassification evo...   \n",
       "2  According to the chart, what are the key demog...   \n",
       "3  What are the key client relationship managemen...   \n",
       "4  What are the key statistics regarding successi...   \n",
       "\n",
       "                                            answer_1  \\\n",
       "0  The three components are: Industry understandi...   \n",
       "1  The changes include renaming regional B/D to n...   \n",
       "2  The data shows Retail bank broker/dealers have...   \n",
       "3  81% of clients report satisfaction with their ...   \n",
       "4  14% plan for external sale, 26.2% have identif...   \n",
       "\n",
       "                                            answer_2  \\\n",
       "0  Cerulli's methodology consists of industry kno...   \n",
       "1  In 2016, Cerulli implemented changes including...   \n",
       "2  Only 5% of advisors are Hispanic/Latino, 4.2% ...   \n",
       "3  54% of advisors' clients fall between ages 50-...   \n",
       "4  55% of practices are open to acquiring other p...   \n",
       "\n",
       "                          file_name    response  \\\n",
       "0  knowledge_base/cerulli_part1.pdf  Response A   \n",
       "1  knowledge_base/cerulli_part1.pdf  Response A   \n",
       "2  knowledge_base/cerulli_part1.pdf  Response A   \n",
       "3  knowledge_base/cerulli_part1.pdf  Response A   \n",
       "4  knowledge_base/cerulli_part1.pdf  Response A   \n",
       "\n",
       "                                           reasoning  \n",
       "0  Response A is more specific and clearly outlin...  \n",
       "1  Response A provides a clearer and more compreh...  \n",
       "2  Response A provides specific demographic stati...  \n",
       "3  Response A directly addresses key client relat...  \n",
       "4  Response A provides more comprehensive and dir...  "
      ]
     },
     "execution_count": 6,
     "metadata": {},
     "output_type": "execute_result"
    }
   ],
   "source": [
    "df.head(5)"
   ]
  },
  {
   "cell_type": "code",
   "execution_count": 7,
   "metadata": {},
   "outputs": [
    {
     "data": {
      "text/plain": [
       "response\n",
       "Response A    169\n",
       "Response B     31\n",
       "Name: count, dtype: int64"
      ]
     },
     "execution_count": 7,
     "metadata": {},
     "output_type": "execute_result"
    }
   ],
   "source": [
    "df[\"response\"].value_counts()"
   ]
  }
 ],
 "metadata": {
  "kernelspec": {
   "display_name": "anthropic",
   "language": "python",
   "name": "python3"
  },
  "language_info": {
   "codemirror_mode": {
    "name": "ipython",
    "version": 3
   },
   "file_extension": ".py",
   "mimetype": "text/x-python",
   "name": "python",
   "nbconvert_exporter": "python",
   "pygments_lexer": "ipython3",
   "version": "3.9.6"
  }
 },
 "nbformat": 4,
 "nbformat_minor": 2
}
