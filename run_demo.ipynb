{
 "cells": [
  {
   "cell_type": "markdown",
   "metadata": {},
   "source": [
    "### Workflow for Synthetic Data Generation\n",
    "- Claude PDF can handle output token generation of 8192. Output generated from 1/4th of the pages is 4000 tokens - therefore decided to split the pdf into 4 parts.\n",
    "- Generate Q&A pairs with two answers for each question- [TO DO: Use Instructor for consistent output]\n",
    "- Use Opus to evaluate the quality of the Q&A pairs and identify the most relevant answer.\n",
    "- Make a nice UI?"
   ]
  },
  {
   "cell_type": "code",
   "execution_count": null,
   "metadata": {},
   "outputs": [],
   "source": []
  }
 ],
 "metadata": {
  "kernelspec": {
   "display_name": "anthropic",
   "language": "python",
   "name": "python3"
  },
  "language_info": {
   "codemirror_mode": {
    "name": "ipython",
    "version": 3
   },
   "file_extension": ".py",
   "mimetype": "text/x-python",
   "name": "python",
   "nbconvert_exporter": "python",
   "pygments_lexer": "ipython3",
   "version": "3.9.6"
  }
 },
 "nbformat": 4,
 "nbformat_minor": 2
}
